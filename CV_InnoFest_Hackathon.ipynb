{
  "nbformat": 4,
  "nbformat_minor": 0,
  "metadata": {
    "colab": {
      "name": "CV_InnoFest_Hackathon.ipynb",
      "provenance": [],
      "collapsed_sections": [],
      "include_colab_link": true
    },
    "kernelspec": {
      "name": "python3",
      "display_name": "Python 3"
    },
    "language_info": {
      "name": "python"
    },
    "accelerator": "GPU"
  },
  "cells": [
    {
      "cell_type": "markdown",
      "metadata": {
        "id": "view-in-github",
        "colab_type": "text"
      },
      "source": [
        "<a href=\"https://colab.research.google.com/github/shv-om/Tracing-IP-address-and-details-of-unidentified-participants-while-academic-sessions/blob/main/CV_InnoFest_Hackathon.ipynb\" target=\"_parent\"><img src=\"https://colab.research.google.com/assets/colab-badge.svg\" alt=\"Open In Colab\"/></a>"
      ]
    },
    {
      "cell_type": "code",
      "source": [
        "from google.colab import drive\n",
        "drive.mount('/content/drive')"
      ],
      "metadata": {
        "colab": {
          "base_uri": "https://localhost:8080/"
        },
        "id": "TOrGtwLmoIcE",
        "outputId": "478c6f7d-e013-44df-e461-c3f53e3fe412"
      },
      "execution_count": null,
      "outputs": [
        {
          "output_type": "stream",
          "name": "stdout",
          "text": [
            "Mounted at /content/drive\n"
          ]
        }
      ]
    },
    {
      "cell_type": "code",
      "source": [
        "!pip install face_recognition"
      ],
      "metadata": {
        "colab": {
          "base_uri": "https://localhost:8080/"
        },
        "id": "CYG17s-Yhcji",
        "outputId": "62599601-3c08-4222-f64b-7c2e457e9ddf"
      },
      "execution_count": null,
      "outputs": [
        {
          "output_type": "stream",
          "name": "stdout",
          "text": [
            "Requirement already satisfied: face_recognition in /usr/local/lib/python3.7/dist-packages (1.3.0)\n",
            "Requirement already satisfied: numpy in /usr/local/lib/python3.7/dist-packages (from face_recognition) (1.21.5)\n",
            "Requirement already satisfied: Click>=6.0 in /usr/local/lib/python3.7/dist-packages (from face_recognition) (7.1.2)\n",
            "Requirement already satisfied: dlib>=19.7 in /usr/local/lib/python3.7/dist-packages (from face_recognition) (19.18.0)\n",
            "Requirement already satisfied: Pillow in /usr/local/lib/python3.7/dist-packages (from face_recognition) (7.1.2)\n",
            "Requirement already satisfied: face-recognition-models>=0.3.0 in /usr/local/lib/python3.7/dist-packages (from face_recognition) (0.3.0)\n"
          ]
        }
      ]
    },
    {
      "cell_type": "code",
      "execution_count": null,
      "metadata": {
        "id": "IEU5uw49cqV5"
      },
      "outputs": [],
      "source": [
        "import face_recognition\n",
        "import cv2\n",
        "import numpy as np\n",
        "import os\n",
        "import glob"
      ]
    },
    {
      "cell_type": "code",
      "source": [
        "path_ = '/content/drive/MyDrive/CV_Hackathon/train_folder/'\n",
        "# path = os.path.join(cur_direc, 'data/faces/')\n",
        "\n",
        "list_of_files = [f for f in glob.glob(path_+'*.jpg')]\n",
        "\n",
        "number_files = len(list_of_files)\n",
        "names = list_of_files.copy()"
      ],
      "metadata": {
        "id": "19iFjkYxc5Ez"
      },
      "execution_count": null,
      "outputs": []
    },
    {
      "cell_type": "code",
      "source": [
        "faces_encodings = []\n",
        "faces_names = []\n",
        "\n",
        "for i in range(number_files):\n",
        "  globals()['image_{}'.format(i)] = face_recognition.load_image_file(list_of_files[i])\n",
        "  globals()['image_encoding_{}'.format(i)] = face_recognition.face_encodings(globals()['image_{}'.format(i)])[0]\n",
        "  faces_encodings.append(globals()['image_encoding_{}'.format(i)])\n",
        "  \n",
        "  # Create array of known names\n",
        "  names[i] = names[i].replace(path_, \"\")  \n",
        "  faces_names.append(names[i])\n",
        "\n",
        "faces_names = list(set(faces_names))"
      ],
      "metadata": {
        "id": "_mE-nFaDdLIN"
      },
      "execution_count": null,
      "outputs": []
    },
    {
      "cell_type": "code",
      "source": [
        "face_locations = []\n",
        "face_encodings = []\n",
        "face_names = []\n",
        "process_this_frame = True"
      ],
      "metadata": {
        "id": "Voq3IX5ndTLG"
      },
      "execution_count": null,
      "outputs": []
    },
    {
      "cell_type": "code",
      "source": [
        "test_list = [nf for nf in glob.glob('/content/drive/MyDrive/CV_Hackathon/test_folder/'+'*.jpg')]\n",
        "\n",
        "for test_path in test_list:\n",
        "  \n",
        "  newname = os.path.basename(test_path)\n",
        "\n",
        "  img = cv2.imread(test_path)\n",
        "\n",
        "  small_frame = cv2.resize(img, (0, 0), fx=0.25, fy=0.25)\n",
        "  rgb_small_frame = small_frame[:, :, ::-1]\n",
        "\n",
        "  if process_this_frame:\n",
        "    face_locations = face_recognition.face_locations( rgb_small_frame)\n",
        "    face_encodings = face_recognition.face_encodings( rgb_small_frame, face_locations)\n",
        "    face_names = []\n",
        "    \n",
        "    for face_encoding in face_encodings:\n",
        "      matches = face_recognition.compare_faces(faces_encodings, face_encoding)\n",
        "      name = \"Unknown\"\n",
        "      face_distances = face_recognition.face_distance(faces_encodings, face_encoding)\n",
        "      best_match_index = np.argmin(face_distances)\n",
        "      \n",
        "      if matches[best_match_index]:\n",
        "        name = os.path.basename(faces_names[best_match_index]).split('.')[0]\n",
        "        face_names.append(name)\n",
        "\n",
        "  process_this_frame = not process_this_frame\n",
        "  # Display the results\n",
        "  for (top, right, bottom, left), name in zip(face_locations, face_names):\n",
        "    top *= 2\n",
        "    right *= 4\n",
        "    bottom *= 5\n",
        "    left *= 4\n",
        "    \n",
        "    # Draw a rectangle around the face\n",
        "    cv2.rectangle(img, (left, top), (right, bottom), (40, 167, 69), 2)\n",
        "    # Input text label with a name below the face\n",
        "    cv2.rectangle(img, (left, bottom - 35), (right, bottom), (40, 167, 69), cv2.FILLED)\n",
        "    font = cv2.FONT_HERSHEY_DUPLEX\n",
        "    cv2.putText(img, name, (left + 6, bottom - 6), font, 1.0, (255, 255, 255), 1)\n",
        "    # Display the resulting image\n",
        "\n",
        "    newpath = '/content/drive/MyDrive/CV_Hackathon/test_folder/output/' + os.path.basename(newname)\n",
        "    cv2.imwrite(newpath, img)"
      ],
      "metadata": {
        "id": "s-Igz7HjdYFF"
      },
      "execution_count": null,
      "outputs": []
    }
  ]
}